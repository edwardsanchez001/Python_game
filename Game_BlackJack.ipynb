{
 "cells": [
  {
   "cell_type": "code",
   "execution_count": null,
   "id": "2b7ed597",
   "metadata": {},
   "outputs": [],
   "source": []
  },
  {
   "cell_type": "code",
   "execution_count": 1,
   "id": "e984c20c",
   "metadata": {},
   "outputs": [],
   "source": [
    "GameDeck = [('A',1), ('A',2),('A',3), ('A',4),\n",
    "           ('2',1),('2',2),('2',3), ('2',4),\n",
    "           ('3',1),('3',2),('3',3), ('3',4),\n",
    "           ('4',1),('4',2),('4',3), ('4',4),\n",
    "           ('5',1),('5',2),('5',3), ('5',4),\n",
    "           ('6',1),('6',2),('6',3), ('6',4),\n",
    "           ('7',1),('7',2),('7',3), ('7',4),\n",
    "           ('8',1),('8',2),('8',3), ('8',4),\n",
    "           ('9',1),('9',2),('9',3), ('9',4),\n",
    "           ('10',1),('10',2),('10',3), ('10',4),\n",
    "           ('J',1),('J',2),('J',3), ('J',4),\n",
    "           ('Q',1),('Q',2),('Q',3), ('Q',4),\n",
    "           ('K',1),('K',2),('K',3), ('K',4)]\n"
   ]
  },
  {
   "cell_type": "code",
   "execution_count": 2,
   "id": "c6087400",
   "metadata": {},
   "outputs": [],
   "source": [
    "import random\n",
    "def randomizing_deck(gameDeck):\n",
    "    random.shuffle(gameDeck)\n",
    "    return gameDeck\n",
    "    "
   ]
  },
  {
   "cell_type": "code",
   "execution_count": 3,
   "id": "bb557f26",
   "metadata": {},
   "outputs": [],
   "source": [
    "class Card:\n",
    "    def __init__(self,value,suit,):\n",
    "        self.value = value\n",
    "        self.suit = suit    # 1,2,3,4 = ♥♦♣♣\n",
    "        #self.numberValue = numberValue\n",
    "\n",
    "    def print_value(self):\n",
    "        if self.suit == 1:\n",
    "            return('♥')\n",
    "        elif self.suit == 2:\n",
    "            return('♦')\n",
    "        elif self.suit == 3:\n",
    "            return('♣')\n",
    "        elif self.suit == 4:\n",
    "            return('♣')\n",
    "        \n",
    "    def card_numerical_value(self):\n",
    "        if self.value == 'A':\n",
    "            self.numberValue = 1\n",
    "            #print(card_value)\n",
    "        elif self.value == '2':\n",
    "            self.numberValue = 2\n",
    "        elif self.value == '3':\n",
    "            self.numberValue = 3\n",
    "        elif self.value == '4':\n",
    "            self.numberValue = 4\n",
    "        elif self.value == '5':\n",
    "            self.numberValue = 5\n",
    "        elif self.value == '6':\n",
    "            self.numberValue = 6\n",
    "        elif self.value == '7':\n",
    "            self.numberValue = 7\n",
    "        elif self.value == '8':\n",
    "            self.numberValue = 8\n",
    "        elif self.value == '9':\n",
    "            self.numberValue = 9\n",
    "        elif self.value == '10':\n",
    "            self.numberValue = 10\n",
    "        elif self.value == 'J':\n",
    "            self.numberValue = 10\n",
    "        elif self.value == 'Q':\n",
    "            self.numberValue = 10\n",
    "        elif self.value == 'K':\n",
    "            self.numberValue = 10\n",
    "        \n",
    "    \n",
    "    def print(self):\n",
    "        print(\"┌───────┐\")\n",
    "        print(\"| {:<2}    |\".format(self.value))\n",
    "        print(\"|       |\")\n",
    "        print(\"|   {}   |\".format(self.print_value()))\n",
    "        print(\"|       |\")\n",
    "        print(\"|    {:>2} |\".format(self.value))\n",
    "        print(\"└───────┘\") \n",
    "        \n",
    "    def print_AI(self):\n",
    "        print(\"┌───────┐\")\n",
    "        print(\"|?      |\")\n",
    "        print(\"|       |\")\n",
    "        print(\"|   ?   |\")\n",
    "        print(\"|       |\")\n",
    "        print(\"|      ?|\")\n",
    "        print(\"└───────┘\") \n",
    "        "
   ]
  },
  {
   "cell_type": "code",
   "execution_count": 4,
   "id": "9c0f1219",
   "metadata": {},
   "outputs": [],
   "source": [
    "class User:\n",
    "    def __init__(self, name, money,playChoice):\n",
    "        self.name = name\n",
    "        self.money = money\n",
    "        self.playChoice = playChoice\n",
    "    \n",
    "    def calculate_new_money(self, new_money):\n",
    "        self.money = int(self.money) + int(new_money)\n"
   ]
  },
  {
   "cell_type": "code",
   "execution_count": 5,
   "id": "32e7b40f",
   "metadata": {},
   "outputs": [],
   "source": [
    "#input from Deck and turns the tuple selected into a card class\n",
    "def random_card_to_class(cardTuple):\n",
    "    tempCardClass=Card(cardTuple[0], cardTuple[1])\n",
    "    return tempCardClass"
   ]
  },
  {
   "cell_type": "code",
   "execution_count": 6,
   "id": "94cb1b27",
   "metadata": {},
   "outputs": [],
   "source": [
    "\n",
    "def assigning_Cards(x):\n",
    "    user_cards_temp = []\n",
    "    for card_to_take in range(0,x):\n",
    "        user_cards_temp.append(random_card_to_class(randomGameDeck[card_to_take]))\n",
    "        \n",
    "        randomGameDeck.pop(card_to_take)\n",
    "        \n",
    "    print(\"Deck has this many cards left: \"+str(len(randomGameDeck))) \n",
    "    return user_cards_temp\n",
    "    \n"
   ]
  },
  {
   "cell_type": "code",
   "execution_count": 7,
   "id": "2202ab67",
   "metadata": {},
   "outputs": [],
   "source": [
    "#adds all the values of a the drawn cards\n",
    "#add something here if it is black jack or not\n",
    "def card_value_sum(player_deck):\n",
    "    total_value = 0\n",
    "    for card in player_deck:\n",
    "        card.card_numerical_value()\n",
    "        total_value += card.numberValue\n",
    "    return total_value\n",
    "    "
   ]
  },
  {
   "cell_type": "code",
   "execution_count": 8,
   "id": "5da5e5f5",
   "metadata": {},
   "outputs": [],
   "source": [
    "#shows the players cards on screen\n",
    "def display_player_cards(player_deck, isPlayer):\n",
    "    if isPlayer:\n",
    "        for cards in player_deck:\n",
    "            cards.print()\n",
    "    else:\n",
    "        player_deck[0].print()\n",
    "        player_deck[1].print_AI()\n",
    "   \n",
    "    \n",
    "    "
   ]
  },
  {
   "cell_type": "code",
   "execution_count": 9,
   "id": "a23de912",
   "metadata": {},
   "outputs": [],
   "source": [
    "def win_or_lose(user_score, AI_score, current_round_cost):\n",
    "    if user_score > 21:\n",
    "        print(\"You went over 21, you lost.\")\n",
    "        print(\"===\"*10)\n",
    "        user.playChoice = False\n",
    "        return -int(current_round_cost)\n",
    "    elif AI_score > 21:\n",
    "        print(\"AI went over 21, it lost.\")\n",
    "        print(\"===\"*10)\n",
    "        user.playChoice = False\n",
    "        return int(current_round_cost)\n",
    "    elif user_score <= AI_score and AI_score <= 21:\n",
    "        print(f\"The AI has won your score was {user_score}, and the AI's was {AI_score}\")\n",
    "        print(\"===\"*10)\n",
    "        user.playChoice = False\n",
    "        return -int(current_round_cost)\n",
    "    elif user_score == 21:\n",
    "        print(f\"BLACK JACK, you won with a score of: {user_score}\")\n",
    "        print(\"===\"*10)\n",
    "        user.playChoice = False\n",
    "        return int(current_round_cost)\n",
    "    elif user_score > AI_score and user_score < 21:\n",
    "        print(f\"You won with a score of {user_score}, to the AI's: {AI_score}\")\n",
    "        print(\"===\"*10)\n",
    "        user.playChoice = False\n",
    "        return int(current_round_cost)"
   ]
  },
  {
   "cell_type": "code",
   "execution_count": null,
   "id": "8f1b9c1d",
   "metadata": {},
   "outputs": [],
   "source": [
    "\n"
   ]
  },
  {
   "cell_type": "code",
   "execution_count": 10,
   "id": "5decd9dd",
   "metadata": {},
   "outputs": [],
   "source": [
    "def user_end(player_card_value_temp, AI_card_value_temp):\n",
    "    user.calculate_new_money(\n",
    "        win_or_lose(\n",
    "            player_card_value_temp, AI_card_value_temp, current_round_bet))\n",
    "    print(f\"Your new balance is {user.money}\")\n",
    "    "
   ]
  },
  {
   "cell_type": "code",
   "execution_count": 11,
   "id": "6f3b10c4",
   "metadata": {},
   "outputs": [],
   "source": [
    "def print_cards_game():\n",
    "    print(\"Your cards are: \")\n",
    "    display_player_cards(user_cards,True)\n",
    "    print(\"===\"*10)\n",
    "    print(\"The AI's cards are: \")\n",
    "    display_player_cards(AI_cards,False)\n",
    "    print(\"===\"*10)\n",
    "    "
   ]
  },
  {
   "cell_type": "code",
   "execution_count": 12,
   "id": "b6bac16f",
   "metadata": {},
   "outputs": [],
   "source": [
    "def check_deck_size(old_deck):\n",
    "    if len(old_deck) < 10:\n",
    "        return randomizing_deck(GameDeck)\n",
    "    else: \n",
    "        return old_deck\n",
    "        \n",
    "    "
   ]
  },
  {
   "cell_type": "code",
   "execution_count": 13,
   "id": "8aa6d2b4",
   "metadata": {},
   "outputs": [],
   "source": [
    "def drawing_new_card_player(old_cards, old_value,old_AI_value):\n",
    "    asking_user_1 = input(\"Do you want another card? y/n\")\n",
    "    if asking_user_1 == 'y':\n",
    "        new_user_card = assigning_Cards(1)\n",
    "        old_cards.append(new_user_card[0])\n",
    "        print('Your new cards are: ')\n",
    "        print(\"===\"*10)\n",
    "        display_player_cards(old_cards,True)\n",
    "        new_user_card[0].card_numerical_value()\n",
    "        return(old_value+new_user_card[0].numberValue)\n",
    "    elif asking_user_1 == 'n':\n",
    "        #user_end(old_value,old_AI_value)\n",
    "        user.playChoice = False\n",
    "        return old_value\n",
    "    else:\n",
    "        print(\"wrong input: \")\n",
    "        drawing_new_card_player()\n",
    "        \n",
    "    "
   ]
  },
  {
   "cell_type": "code",
   "execution_count": 14,
   "id": "528b0b6c",
   "metadata": {},
   "outputs": [],
   "source": [
    "def drawing_new_card_AI(old_cards, old_value,old_AI_value):\n",
    "    if old_value > old_AI_value and old_AI_value <21:\n",
    "        new_AI_card = assigning_Cards(1)\n",
    "        old_cards.append(new_AI_card[0])\n",
    "        print('AI new cards are: ')\n",
    "        print(\"===\"*10)\n",
    "        display_player_cards(old_cards,True)\n",
    "        new_AI_card[0].card_numerical_value()\n",
    "        return(old_AI_value+new_AI_card[0].numberValue) \n",
    "    else:\n",
    "        user_end(old_value,old_AI_value)\n",
    "       # drawing_new_card_AI()\n",
    "        "
   ]
  },
  {
   "cell_type": "code",
   "execution_count": 15,
   "id": "faa7ec83",
   "metadata": {},
   "outputs": [],
   "source": [
    "def play_func():\n",
    "    play = input(\"Play? y|n\")\n",
    "    if play == 'y':\n",
    "        return True\n",
    "    elif play == 'n':\n",
    "        return False\n",
    "    else:\n",
    "        print('Wrong input')\n",
    "        play_func()"
   ]
  },
  {
   "cell_type": "code",
   "execution_count": 16,
   "id": "7b580e27",
   "metadata": {},
   "outputs": [],
   "source": [
    "user_card_value_number = 0\n",
    "AI_card_value_number = 0\n",
    "user_cards = []\n",
    "AI_cards = []\n",
    "randomGameDeck = []"
   ]
  },
  {
   "cell_type": "code",
   "execution_count": 17,
   "id": "bb3a3480",
   "metadata": {},
   "outputs": [
    {
     "name": "stdout",
     "output_type": "stream",
     "text": [
      "Rules: you have to beat the AI in value and not go over 21\n",
      " 'J', 'Q', 'K' count as 10 and 'A' counts as 1 \n",
      "What is your name: Edward Sanchez\n",
      "How much would you like to spend today: 1000\n",
      "Welcome Edward Sanchez you have $1000 much to play with lets begin.\n"
     ]
    }
   ],
   "source": [
    "print(\"Rules: you have to beat the AI in value and not go over 21\")\n",
    "print(\" 'J', 'Q', 'K' count as 10 and 'A' counts as 1 \")\n",
    "\n",
    "user_name_input = input(\"What is your name: \")\n",
    "user_money_input = input(\"How much would you like to spend today: \")\n",
    "\n",
    "user = User(user_name_input,user_money_input, True)\n",
    "\n",
    "#condition is money \n",
    "print(f\"Welcome {user.name} you have ${user.money} much to play with lets begin.\")\n",
    "\n",
    "\n"
   ]
  },
  {
   "cell_type": "code",
   "execution_count": null,
   "id": "eac65054",
   "metadata": {},
   "outputs": [],
   "source": []
  },
  {
   "cell_type": "code",
   "execution_count": 18,
   "id": "84d82aa2",
   "metadata": {},
   "outputs": [],
   "source": [
    "\n",
    "\n",
    "#def main():\n",
    "\n",
    "randomGameDeck = randomizing_deck(GameDeck)\n",
    "\n",
    "user_cards = assigning_Cards(2)\n",
    "AI_cards = assigning_Cards(2)\n",
    "\n",
    "current_round_bet = input(\"How much is this round: \")\n",
    "print_cards_game()\n",
    "\n",
    "user_card_value_number = card_value_sum(user_cards)\n",
    "AI_card_value_number = card_value_sum(AI_cards)\n",
    "\n",
    "#new_player_value = (drawing_new_card_player(user_cards, user_card_value_number,AI_card_value_number))\n",
    "\n",
    "check_deck_size(randomGameDeck)\n",
    "user.playChoice = True\n",
    "#print(new_player_value)\n",
    "while user_card_value_number < 21:\n",
    "    if user_card_value_number > 21:\n",
    "        user_end(user_card_value_number, AI_card_value_number)\n",
    "        break\n",
    "    elif user_card_value_number == 21:\n",
    "        user_end(user_card_value_number, AI_card_value_number)\n",
    "        break\n",
    "\n",
    "    elif user_card_value_number < 21 and user.playChoice == True:\n",
    "        user_card_value_number = (drawing_new_card_player(user_cards, user_card_value_number,AI_card_value_number))       \n",
    "        if user_card_value_number > 21:\n",
    "            user_end(user_card_value_number, AI_card_value_number)\n",
    "            break\n",
    "\n",
    "        else:\n",
    "             continue\n",
    "\n",
    "    elif user_card_value_number > AI_card_value_number and AI_card_value_number <21 and AI_card_value_number <= 16 and user.playChoice == False:\n",
    "        new_AI_value = (drawing_new_card_AI(AI_cards, user_card_value_number,AI_card_value_number))\n",
    "        user_end(user_card_value_number, new_AI_value)\n",
    "        break\n",
    "\n",
    "    else:\n",
    "        user_end(user_card_value_number, AI_card_value_number)\n",
    "        break\n",
    "\n",
    "\n",
    "\n",
    "\n",
    "\n",
    "\n",
    "\n",
    "        \n",
    "        \n",
    "#stops if i have a third card"
   ]
  },
  {
   "cell_type": "code",
   "execution_count": 19,
   "id": "c896b595",
   "metadata": {},
   "outputs": [
    {
     "name": "stdout",
     "output_type": "stream",
     "text": [
      "Play? y|ny\n"
     ]
    },
    {
     "ename": "IndexError",
     "evalue": "list index out of range",
     "output_type": "error",
     "traceback": [
      "\u001b[0;31m---------------------------------------------------------------------------\u001b[0m",
      "\u001b[0;31mIndexError\u001b[0m                                Traceback (most recent call last)",
      "\u001b[0;32m<ipython-input-19-a05a046549a9>\u001b[0m in \u001b[0;36m<module>\u001b[0;34m\u001b[0m\n\u001b[1;32m      6\u001b[0m         \u001b[0;32mbreak\u001b[0m\u001b[0;34m\u001b[0m\u001b[0;34m\u001b[0m\u001b[0m\n\u001b[1;32m      7\u001b[0m     \u001b[0;32melif\u001b[0m \u001b[0mplay\u001b[0m \u001b[0;34m==\u001b[0m \u001b[0;32mTrue\u001b[0m\u001b[0;34m:\u001b[0m\u001b[0;34m\u001b[0m\u001b[0;34m\u001b[0m\u001b[0m\n\u001b[0;32m----> 8\u001b[0;31m         \u001b[0mmain\u001b[0m\u001b[0;34m(\u001b[0m\u001b[0;34m)\u001b[0m\u001b[0;34m\u001b[0m\u001b[0;34m\u001b[0m\u001b[0m\n\u001b[0m\u001b[1;32m      9\u001b[0m         \u001b[0;32mcontinue\u001b[0m\u001b[0;34m\u001b[0m\u001b[0;34m\u001b[0m\u001b[0m\n",
      "\u001b[0;32m<ipython-input-18-c480c024fbdf>\u001b[0m in \u001b[0;36mmain\u001b[0;34m()\u001b[0m\n\u001b[1;32m      4\u001b[0m     \u001b[0mrandomGameDeck\u001b[0m \u001b[0;34m=\u001b[0m \u001b[0mrandomizing_deck\u001b[0m\u001b[0;34m(\u001b[0m\u001b[0mGameDeck\u001b[0m\u001b[0;34m)\u001b[0m\u001b[0;34m\u001b[0m\u001b[0;34m\u001b[0m\u001b[0m\n\u001b[1;32m      5\u001b[0m \u001b[0;34m\u001b[0m\u001b[0m\n\u001b[0;32m----> 6\u001b[0;31m     \u001b[0muser_cards\u001b[0m \u001b[0;34m=\u001b[0m \u001b[0massigning_Cards\u001b[0m\u001b[0;34m(\u001b[0m\u001b[0;36m2\u001b[0m\u001b[0;34m)\u001b[0m\u001b[0;34m\u001b[0m\u001b[0;34m\u001b[0m\u001b[0m\n\u001b[0m\u001b[1;32m      7\u001b[0m     \u001b[0mAI_cards\u001b[0m \u001b[0;34m=\u001b[0m \u001b[0massigning_Cards\u001b[0m\u001b[0;34m(\u001b[0m\u001b[0;36m2\u001b[0m\u001b[0;34m)\u001b[0m\u001b[0;34m\u001b[0m\u001b[0;34m\u001b[0m\u001b[0m\n\u001b[1;32m      8\u001b[0m \u001b[0;34m\u001b[0m\u001b[0m\n",
      "\u001b[0;32m<ipython-input-6-58d351963a20>\u001b[0m in \u001b[0;36massigning_Cards\u001b[0;34m(x)\u001b[0m\n\u001b[1;32m      2\u001b[0m     \u001b[0muser_cards_temp\u001b[0m \u001b[0;34m=\u001b[0m \u001b[0;34m[\u001b[0m\u001b[0;34m]\u001b[0m\u001b[0;34m\u001b[0m\u001b[0;34m\u001b[0m\u001b[0m\n\u001b[1;32m      3\u001b[0m     \u001b[0;32mfor\u001b[0m \u001b[0mcard_to_take\u001b[0m \u001b[0;32min\u001b[0m \u001b[0mrange\u001b[0m\u001b[0;34m(\u001b[0m\u001b[0;36m0\u001b[0m\u001b[0;34m,\u001b[0m\u001b[0mx\u001b[0m\u001b[0;34m)\u001b[0m\u001b[0;34m:\u001b[0m\u001b[0;34m\u001b[0m\u001b[0;34m\u001b[0m\u001b[0m\n\u001b[0;32m----> 4\u001b[0;31m         \u001b[0muser_cards_temp\u001b[0m\u001b[0;34m.\u001b[0m\u001b[0mappend\u001b[0m\u001b[0;34m(\u001b[0m\u001b[0mrandom_card_to_class\u001b[0m\u001b[0;34m(\u001b[0m\u001b[0mrandomGameDeck\u001b[0m\u001b[0;34m[\u001b[0m\u001b[0mcard_to_take\u001b[0m\u001b[0;34m]\u001b[0m\u001b[0;34m)\u001b[0m\u001b[0;34m)\u001b[0m\u001b[0;34m\u001b[0m\u001b[0;34m\u001b[0m\u001b[0m\n\u001b[0m\u001b[1;32m      5\u001b[0m \u001b[0;34m\u001b[0m\u001b[0m\n\u001b[1;32m      6\u001b[0m         \u001b[0mrandomGameDeck\u001b[0m\u001b[0;34m.\u001b[0m\u001b[0mpop\u001b[0m\u001b[0;34m(\u001b[0m\u001b[0mcard_to_take\u001b[0m\u001b[0;34m)\u001b[0m\u001b[0;34m\u001b[0m\u001b[0;34m\u001b[0m\u001b[0m\n",
      "\u001b[0;31mIndexError\u001b[0m: list index out of range"
     ]
    }
   ],
   "source": [
    "play = True\n",
    "while play:\n",
    "    play = play_func()\n",
    "    if play == False:\n",
    "        print(f'Good game {user.name} your ending balance is ${user.money}')\n",
    "        break\n",
    "    elif play == True:\n",
    "        main()\n",
    "        continue"
   ]
  },
  {
   "cell_type": "code",
   "execution_count": null,
   "id": "ae7299e5",
   "metadata": {},
   "outputs": [],
   "source": []
  },
  {
   "cell_type": "code",
   "execution_count": null,
   "id": "d912a2d4",
   "metadata": {},
   "outputs": [],
   "source": [
    "\n",
    "\n",
    "       \n",
    "    "
   ]
  },
  {
   "cell_type": "code",
   "execution_count": null,
   "id": "0aea1b1b",
   "metadata": {},
   "outputs": [],
   "source": []
  }
 ],
 "metadata": {
  "kernelspec": {
   "display_name": "Python 3",
   "language": "python",
   "name": "python3"
  },
  "language_info": {
   "codemirror_mode": {
    "name": "ipython",
    "version": 3
   },
   "file_extension": ".py",
   "mimetype": "text/x-python",
   "name": "python",
   "nbconvert_exporter": "python",
   "pygments_lexer": "ipython3",
   "version": "3.9.5"
  }
 },
 "nbformat": 4,
 "nbformat_minor": 5
}
